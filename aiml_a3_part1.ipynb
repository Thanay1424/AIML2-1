{
  "nbformat": 4,
  "nbformat_minor": 0,
  "metadata": {
    "colab": {
      "provenance": [],
      "authorship_tag": "ABX9TyMr+gvdzDQzagclcjUkaYLg",
      "include_colab_link": true
    },
    "kernelspec": {
      "name": "python3",
      "display_name": "Python 3"
    },
    "language_info": {
      "name": "python"
    }
  },
  "cells": [
    {
      "cell_type": "markdown",
      "metadata": {
        "id": "view-in-github",
        "colab_type": "text"
      },
      "source": [
        "<a href=\"https://colab.research.google.com/github/Thanay1424/AIML2-1/blob/main/aiml_a3_part1.ipynb\" target=\"_parent\"><img src=\"https://colab.research.google.com/assets/colab-badge.svg\" alt=\"Open In Colab\"/></a>"
      ]
    },
    {
      "cell_type": "code",
      "execution_count": null,
      "metadata": {
        "colab": {
          "base_uri": "https://localhost:8080/"
        },
        "id": "0YH1KA0GhrTX",
        "outputId": "08d79c68-5e74-4a03-925d-e258af919e4b"
      },
      "outputs": [
        {
          "output_type": "stream",
          "name": "stdout",
          "text": [
            " | | \n",
            "-+-+-\n",
            " | | \n",
            "-+-+-\n",
            " | | \n"
          ]
        }
      ],
      "source": [
        "from functools import lru_cache\n",
        "import random\n",
        "\n",
        "class Game:\n",
        "    def __init__(self, initial_state):\n",
        "        self.initial_state = initial_state\n",
        "\n",
        "    def actions(self, state):\n",
        "        \"\"\"Return a list of actions available from the given state.\"\"\"\n",
        "        raise NotImplementedError\n",
        "\n",
        "    def result(self, state, action):\n",
        "        \"\"\"Return the state resulting from taking the given action in the given state.\"\"\"\n",
        "        raise NotImplementedError\n",
        "\n",
        "    def is_terminal(self, state):\n",
        "        \"\"\"Return True if the given state is a terminal state, False otherwise.\"\"\"\n",
        "        raise NotImplementedError\n",
        "\n",
        "    def utility(self, state):\n",
        "        \"\"\"Return the utility of the given terminal state.\"\"\"\n",
        "        raise NotImplementedError\n",
        "\n",
        "class TicTacToe(Game):\n",
        "    def __init__(self, initial_state):\n",
        "        super().__init__(initial_state)\n",
        "\n",
        "    def actions(self, state):\n",
        "        \"\"\"Return a list of available moves from the given state.\"\"\"\n",
        "        return [i for i, x in enumerate(state) if x == ' ']\n",
        "\n",
        "    def result(self, state, action, player):\n",
        "        \"\"\"Return the new state resulting from the given action.\"\"\"\n",
        "        new_state = list(state)\n",
        "        new_state[action] = player\n",
        "        return ''.join(new_state)\n",
        "\n",
        "    def is_terminal(self, state):\n",
        "        \"\"\"Return True if the game is over.\"\"\"\n",
        "        win_conditions = [(0, 1, 2), (3, 4, 5), (6, 7, 8),\n",
        "                          (0, 3, 6), (1, 4, 7), (2, 5, 8),\n",
        "                          (0, 4, 8), (2, 4, 6)]\n",
        "        for (a, b, c) in win_conditions:\n",
        "            if state[a] == state[b] == state[c] != ' ':\n",
        "                return True\n",
        "\n",
        "        if ' ' not in state:\n",
        "            return True\n",
        "\n",
        "        return False\n",
        "\n",
        "    def utility(self, state):\n",
        "        \"\"\"Return the utility value of the state.\"\"\"\n",
        "        win_conditions = [(0, 1, 2), (3, 4, 5), (6, 7, 8),\n",
        "                          (0, 3, 6), (1, 4, 7), (2, 5, 8),\n",
        "                          (0, 4, 8), (2, 4, 6)]\n",
        "        for (a, b, c) in win_conditions:\n",
        "            if state[a] == state[b] == state[c]:\n",
        "                if state[a] == 'X':\n",
        "                    return 1\n",
        "                elif state[a] == 'O':\n",
        "                    return -1\n",
        "\n",
        "        return 0\n",
        "\n",
        "def play_game():\n",
        "    game = TicTacToe(' ' * 9)\n",
        "\n",
        "    def print_board(state):\n",
        "        \"\"\"Print the game board.\"\"\"\n",
        "        print(f\"{state[0]}|{state[1]}|{state[2]}\")\n",
        "        print(\"-+-+-\")\n",
        "        print(f\"{state[3]}|{state[4]}|{state[5]}\")\n",
        "        print(\"-+-+-\")\n",
        "        print(f\"{state[6]}|{state[7]}|{state[8]}\")\n",
        "\n",
        "    current_player = 'X'\n",
        "    while not game.is_terminal(game.initial_state):\n",
        "        print_board(game.initial_state)\n",
        "        try:\n",
        "            move = int(input(f\"Player {current_player}, enter your move (0-8): \"))\n",
        "            if move in game.actions(game.initial_state):\n",
        "                game.initial_state = game.result(game.initial_state, move, current_player)\n",
        "                current_player = 'O' if current_player == 'X' else 'X'\n",
        "            else:\n",
        "                print(\"Invalid move, try again.\")\n",
        "        except (ValueError, IndexError):\n",
        "            print(\"Invalid input, please enter a number between 0 and 8.\")\n",
        "\n",
        "    print_board(game.initial_state)\n",
        "    utility = game.utility(game.initial_state)\n",
        "    if utility == 1:\n",
        "        print(\"Player X wins!\")\n",
        "    elif utility == -1:\n",
        "        print(\"Player O wins!\")\n",
        "    else:\n",
        "        print(\"It's a draw!\")\n",
        "\n",
        "play_game()\n"
      ]
    }
  ]
}